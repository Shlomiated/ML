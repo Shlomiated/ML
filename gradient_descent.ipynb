{
 "cells": [
  {
   "cell_type": "markdown",
   "metadata": {},
   "source": [
    "Functions - Gradient descent"
   ]
  },
  {
   "cell_type": "code",
   "execution_count": 6,
   "metadata": {},
   "outputs": [],
   "source": [
    "import numpy as np\n",
    "\n",
    "def normalization(x):\n",
    "    mean_x = np.mean(x,axis=0)\n",
    "    std_x = np.std(x,axis=0)\n",
    "    norm_x = (x - mean_x)/std_x\n",
    "    \n",
    "    return norm_x\n",
    "\n",
    "def compute_cost(theta, x, y):\n",
    "    h = x.dot(theta)\n",
    "    dist = (h.T - y)**2\n",
    "    sum_dist = np.sum(dist)\n",
    "    m = len(y)\n",
    "    j2 = 1/(2*m)*sum_dist\n",
    "\n",
    "    return j2\n",
    "\n",
    "def compute_gradient_descent(theta, x, y, a, iters):\n",
    "    m = len(y)\n",
    "    J_history = np.zeros(iters)\n",
    "    for iter in range(iters):\n",
    "        h = x.dot(theta)\n",
    "        dist = h.T - y\n",
    "        \n",
    "        for i in range(len(theta)):\n",
    "            theta_i_temp = dist * x[:, i]\n",
    "            theta_i_temp = np.sum(theta_i_temp)\n",
    "            theta_i_temp = theta_i_temp * a/m\n",
    "            theta[i, 0] = theta[i, 0] - theta_i_temp\n",
    "\n",
    "        J_history[iter] = compute_cost(theta, x, y)\n",
    "    return theta, J_history\n",
    "\n"
   ]
  },
  {
   "cell_type": "markdown",
   "metadata": {},
   "source": [
    "Variebles - Gradient descent"
   ]
  },
  {
   "cell_type": "code",
   "execution_count": 8,
   "metadata": {},
   "outputs": [
    {
     "ename": "ModuleNotFoundError",
     "evalue": "No module named 'gradient_descent_utils'",
     "output_type": "error",
     "traceback": [
      "\u001b[1;31m---------------------------------------------------------------------------\u001b[0m",
      "\u001b[1;31mModuleNotFoundError\u001b[0m                       Traceback (most recent call last)",
      "\u001b[1;32mc:\\Users\\ShlomiAtedgi\\Desktop\\ML\\Jupiter\\gradient_descent.ipynb Cell 4'\u001b[0m in \u001b[0;36m<cell line: 5>\u001b[1;34m()\u001b[0m\n\u001b[0;32m      <a href='vscode-notebook-cell:/c%3A/Users/ShlomiAtedgi/Desktop/ML/Jupiter/gradient_descent.ipynb#ch0000001?line=1'>2</a>\u001b[0m \u001b[39mimport\u001b[39;00m \u001b[39mmatplotlib\u001b[39;00m\u001b[39m.\u001b[39;00m\u001b[39mpyplot\u001b[39;00m \u001b[39mas\u001b[39;00m \u001b[39mplt\u001b[39;00m\n\u001b[0;32m      <a href='vscode-notebook-cell:/c%3A/Users/ShlomiAtedgi/Desktop/ML/Jupiter/gradient_descent.ipynb#ch0000001?line=2'>3</a>\u001b[0m \u001b[39mimport\u001b[39;00m \u001b[39mnumpy\u001b[39;00m \u001b[39mas\u001b[39;00m \u001b[39mnp\u001b[39;00m\n\u001b[1;32m----> <a href='vscode-notebook-cell:/c%3A/Users/ShlomiAtedgi/Desktop/ML/Jupiter/gradient_descent.ipynb#ch0000001?line=4'>5</a>\u001b[0m \u001b[39mfrom\u001b[39;00m \u001b[39mgradient_descent_utils\u001b[39;00m \u001b[39mimport\u001b[39;00m compute_cost, compute_gradient_descent, normalization\n\u001b[0;32m      <a href='vscode-notebook-cell:/c%3A/Users/ShlomiAtedgi/Desktop/ML/Jupiter/gradient_descent.ipynb#ch0000001?line=5'>6</a>\u001b[0m \u001b[39m# take csv file and show data frame\u001b[39;00m\n\u001b[0;32m      <a href='vscode-notebook-cell:/c%3A/Users/ShlomiAtedgi/Desktop/ML/Jupiter/gradient_descent.ipynb#ch0000001?line=7'>8</a>\u001b[0m header_list \u001b[39m=\u001b[39m [\u001b[39m\"\u001b[39m\u001b[39mSize\u001b[39m\u001b[39m\"\u001b[39m, \u001b[39m\"\u001b[39m\u001b[39mBedrooms\u001b[39m\u001b[39m\"\u001b[39m, \u001b[39m\"\u001b[39m\u001b[39mPrice\u001b[39m\u001b[39m\"\u001b[39m]\n",
      "\u001b[1;31mModuleNotFoundError\u001b[0m: No module named 'gradient_descent_utils'"
     ]
    }
   ],
   "source": [
    "import pandas as pd\n",
    "import matplotlib.pyplot as plt\n",
    "import numpy as np\n",
    "\n",
    "from gradient_descent_utils import compute_cost, compute_gradient_descent, normalization\n",
    "# take csv file and show data frame\n",
    "\n",
    "header_list = [\"Size\", \"Bedrooms\", \"Price\"]\n",
    "df = pd.read_csv(r\"C:\\Users\\ShlomiAtedgi\\Desktop\\ML\\ex1data2.txt\", sep=\",\", names=header_list)\n",
    "# print(df)\n",
    "\n",
    "# linear regression\n",
    "\n",
    "x = df.iloc[:, :-1].to_numpy()\n",
    "x = normalization(x)\n",
    "y = df.iloc[:, -1].to_numpy()\n",
    "y = normalization(y)\n",
    "\n",
    "#df.plot(x=\"Population\",y=\"Profit\", kind=\"scatter\")\n",
    "#plt.show()\n",
    "\n",
    "# print(feature_metrix)\n",
    "\n",
    "# array\n",
    "\n",
    "iterations = 1500\n",
    "alpha = 0.0001\n",
    "\n",
    "ones_column = np.ones([len(y), 1], dtype=\"int\")\n",
    "feature_metrix = np.append(ones_column, x, axis=1)\n",
    "theta_init = np.zeros([feature_metrix.shape[1], 1])\n",
    "theta_f, j_history = compute_gradient_descent(theta_init, feature_metrix, y, alpha, iterations)\n",
    "\n",
    "hf = feature_metrix.dot(theta_f).flatten()\n",
    "ones, size, bedrooms = feature_metrix.T\n",
    "\n",
    "ax = plt.axes(projection='3d')\n",
    "ax.scatter3D(size, bedrooms, y, \"blue\")\n",
    "ax.scatter3D(size, bedrooms, hf, \"red\")\n",
    "plt.show()\n",
    "\n"
   ]
  },
  {
   "cell_type": "markdown",
   "metadata": {},
   "source": [
    "Normal Equations"
   ]
  },
  {
   "cell_type": "code",
   "execution_count": 4,
   "metadata": {},
   "outputs": [],
   "source": [
    "def compute_Normal_Equations(x, y):\n",
    "    return np.linalg.inv(x.T.dot(x)).dot(x.T).dot(y)"
   ]
  },
  {
   "cell_type": "code",
   "execution_count": 5,
   "metadata": {},
   "outputs": [
    {
     "ename": "ModuleNotFoundError",
     "evalue": "No module named 'gradient_descent_utils'",
     "output_type": "error",
     "traceback": [
      "\u001b[1;31m---------------------------------------------------------------------------\u001b[0m",
      "\u001b[1;31mModuleNotFoundError\u001b[0m                       Traceback (most recent call last)",
      "\u001b[1;32mc:\\Users\\ShlomiAtedgi\\Desktop\\ML\\Jupiter\\gradient_descent.ipynb Cell 7'\u001b[0m in \u001b[0;36m<cell line: 5>\u001b[1;34m()\u001b[0m\n\u001b[0;32m      <a href='vscode-notebook-cell:/c%3A/Users/ShlomiAtedgi/Desktop/ML/Jupiter/gradient_descent.ipynb#ch0000006?line=1'>2</a>\u001b[0m \u001b[39mimport\u001b[39;00m \u001b[39mmatplotlib\u001b[39;00m\u001b[39m.\u001b[39;00m\u001b[39mpyplot\u001b[39;00m \u001b[39mas\u001b[39;00m \u001b[39mplt\u001b[39;00m\n\u001b[0;32m      <a href='vscode-notebook-cell:/c%3A/Users/ShlomiAtedgi/Desktop/ML/Jupiter/gradient_descent.ipynb#ch0000006?line=2'>3</a>\u001b[0m \u001b[39mimport\u001b[39;00m \u001b[39mnumpy\u001b[39;00m \u001b[39mas\u001b[39;00m \u001b[39mnp\u001b[39;00m\n\u001b[1;32m----> <a href='vscode-notebook-cell:/c%3A/Users/ShlomiAtedgi/Desktop/ML/Jupiter/gradient_descent.ipynb#ch0000006?line=4'>5</a>\u001b[0m \u001b[39mfrom\u001b[39;00m \u001b[39mgradient_descent_utils\u001b[39;00m \u001b[39mimport\u001b[39;00m normalization\n\u001b[0;32m      <a href='vscode-notebook-cell:/c%3A/Users/ShlomiAtedgi/Desktop/ML/Jupiter/gradient_descent.ipynb#ch0000006?line=5'>6</a>\u001b[0m \u001b[39m# take csv file and show data frame\u001b[39;00m\n\u001b[0;32m      <a href='vscode-notebook-cell:/c%3A/Users/ShlomiAtedgi/Desktop/ML/Jupiter/gradient_descent.ipynb#ch0000006?line=7'>8</a>\u001b[0m header_list \u001b[39m=\u001b[39m [\u001b[39m\"\u001b[39m\u001b[39mSize\u001b[39m\u001b[39m\"\u001b[39m, \u001b[39m\"\u001b[39m\u001b[39mBedrooms\u001b[39m\u001b[39m\"\u001b[39m, \u001b[39m\"\u001b[39m\u001b[39mPrice\u001b[39m\u001b[39m\"\u001b[39m]\n",
      "\u001b[1;31mModuleNotFoundError\u001b[0m: No module named 'gradient_descent_utils'"
     ]
    }
   ],
   "source": [
    "import pandas as pd\n",
    "import matplotlib.pyplot as plt\n",
    "import numpy as np\n",
    "\n",
    "from gradient_descent_utils import normalization\n",
    "# take csv file and show data frame\n",
    "\n",
    "header_list = [\"Size\", \"Bedrooms\", \"Price\"]\n",
    "df = pd.read_csv(r\"C:\\Users\\ShlomiAtedgi\\Desktop\\ML\\ex1data2.txt\", sep=\",\", names=header_list)\n",
    "# print(df)\n",
    "\n",
    "# linear regression\n",
    "\n",
    "x = df.iloc[:, :-1].to_numpy()\n",
    "x = normalization(x)\n",
    "y = df.iloc[:, -1].to_numpy()\n",
    "y = normalization(y)\n",
    "\n",
    "theta_f = compute_Normal_Equations(x, y)\n",
    "\n",
    "hf = feature_metrix.dot(theta_f).flatten()\n",
    "_, size, bedrooms = feature_metrix.T\n",
    "\n",
    "ax = plt.axes(projection='3d')\n",
    "ax.scatter3D(size, bedrooms, y, \"blue\")\n",
    "ax.scatter3D(size, bedrooms, hf, \"red\")\n",
    "plt.show()\n"
   ]
  }
 ],
 "metadata": {
  "interpreter": {
   "hash": "88f49112e6f17addbcff4521d262353b32b6c975b96e51b14a74c8d955cfdaac"
  },
  "kernelspec": {
   "display_name": "Python 3.10.4 64-bit",
   "language": "python",
   "name": "python3"
  },
  "language_info": {
   "codemirror_mode": {
    "name": "ipython",
    "version": 3
   },
   "file_extension": ".py",
   "mimetype": "text/x-python",
   "name": "python",
   "nbconvert_exporter": "python",
   "pygments_lexer": "ipython3",
   "version": "3.10.4"
  },
  "orig_nbformat": 4
 },
 "nbformat": 4,
 "nbformat_minor": 2
}
